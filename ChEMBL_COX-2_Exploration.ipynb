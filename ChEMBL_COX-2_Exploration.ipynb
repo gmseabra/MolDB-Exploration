{
  "cells": [
    {
      "cell_type": "markdown",
      "metadata": {
        "id": "view-in-github",
        "colab_type": "text"
      },
      "source": [
        "<a href=\"https://colab.research.google.com/github/gmseabra/MolDB-Exploration/blob/main/ChEMBL_COX-2_Exploration.ipynb\" target=\"_parent\"><img src=\"https://colab.research.google.com/assets/colab-badge.svg\" alt=\"Open In Colab\"/></a>"
      ]
    },
    {
      "cell_type": "code",
      "source": [
        "import sys\n",
        "\n",
        "if 'google.colab' in sys.modules:\n",
        "    print('Running on CoLab - Installing packages')\n",
        "    !pip install rdkit pandas py3Dmol mols2grid matplotlib seaborn tqdm scikit-learn\n",
        "    !mkdir data\n",
        "    !wget https://github.com/gmseabra/MolDB-Exploration/blob/52ea789c55ba89377e37d75211ebfbd08f631e9b/data/ChEMBL_COX-2_2024-08-28.csv -O data/ChEMBL_COX-2_2024-08-28.csv\n",
        "    !mkdir utils\n",
        "    !wget https://github.com/gmseabra/MolDB-Exploration/blob/52ea789c55ba89377e37d75211ebfbd08f631e9b/utils/preprocess.py -O utils/utils.py\n",
        "else:\n",
        "    print('Not running on CoLab - Assuming packages are already installed')"
      ],
      "metadata": {
        "id": "0zmNCKz9WSiz",
        "outputId": "c37a6db4-60ed-4832-d3a4-a459dcbae318",
        "colab": {
          "base_uri": "https://localhost:8080/"
        }
      },
      "id": "0zmNCKz9WSiz",
      "execution_count": 1,
      "outputs": [
        {
          "output_type": "stream",
          "name": "stdout",
          "text": [
            "Running on CoLab - Installing packages\n",
            "Collecting rdkit\n",
            "  Downloading rdkit-2025.3.5-cp312-cp312-manylinux_2_28_x86_64.whl.metadata (4.1 kB)\n",
            "Requirement already satisfied: pandas in /usr/local/lib/python3.12/dist-packages (2.2.2)\n",
            "Collecting py3Dmol\n",
            "  Downloading py3dmol-2.5.2-py2.py3-none-any.whl.metadata (2.1 kB)\n",
            "Collecting mols2grid\n",
            "  Downloading mols2grid-2.0.0-py3-none-any.whl.metadata (16 kB)\n",
            "Requirement already satisfied: matplotlib in /usr/local/lib/python3.12/dist-packages (3.10.0)\n",
            "Requirement already satisfied: seaborn in /usr/local/lib/python3.12/dist-packages (0.13.2)\n",
            "Requirement already satisfied: tqdm in /usr/local/lib/python3.12/dist-packages (4.67.1)\n",
            "Requirement already satisfied: scikit-learn in /usr/local/lib/python3.12/dist-packages (1.6.1)\n",
            "Requirement already satisfied: numpy in /usr/local/lib/python3.12/dist-packages (from rdkit) (2.0.2)\n",
            "Requirement already satisfied: Pillow in /usr/local/lib/python3.12/dist-packages (from rdkit) (11.3.0)\n",
            "Requirement already satisfied: python-dateutil>=2.8.2 in /usr/local/lib/python3.12/dist-packages (from pandas) (2.9.0.post0)\n",
            "Requirement already satisfied: pytz>=2020.1 in /usr/local/lib/python3.12/dist-packages (from pandas) (2025.2)\n",
            "Requirement already satisfied: tzdata>=2022.7 in /usr/local/lib/python3.12/dist-packages (from pandas) (2025.2)\n",
            "Requirement already satisfied: ipywidgets<8,>=7 in /usr/local/lib/python3.12/dist-packages (from mols2grid) (7.7.1)\n",
            "Requirement already satisfied: jinja2>=2.11.0 in /usr/local/lib/python3.12/dist-packages (from mols2grid) (3.1.6)\n",
            "Requirement already satisfied: contourpy>=1.0.1 in /usr/local/lib/python3.12/dist-packages (from matplotlib) (1.3.3)\n",
            "Requirement already satisfied: cycler>=0.10 in /usr/local/lib/python3.12/dist-packages (from matplotlib) (0.12.1)\n",
            "Requirement already satisfied: fonttools>=4.22.0 in /usr/local/lib/python3.12/dist-packages (from matplotlib) (4.59.1)\n",
            "Requirement already satisfied: kiwisolver>=1.3.1 in /usr/local/lib/python3.12/dist-packages (from matplotlib) (1.4.9)\n",
            "Requirement already satisfied: packaging>=20.0 in /usr/local/lib/python3.12/dist-packages (from matplotlib) (25.0)\n",
            "Requirement already satisfied: pyparsing>=2.3.1 in /usr/local/lib/python3.12/dist-packages (from matplotlib) (3.2.3)\n",
            "Requirement already satisfied: scipy>=1.6.0 in /usr/local/lib/python3.12/dist-packages (from scikit-learn) (1.16.1)\n",
            "Requirement already satisfied: joblib>=1.2.0 in /usr/local/lib/python3.12/dist-packages (from scikit-learn) (1.5.1)\n",
            "Requirement already satisfied: threadpoolctl>=3.1.0 in /usr/local/lib/python3.12/dist-packages (from scikit-learn) (3.6.0)\n",
            "Requirement already satisfied: ipykernel>=4.5.1 in /usr/local/lib/python3.12/dist-packages (from ipywidgets<8,>=7->mols2grid) (6.17.1)\n",
            "Requirement already satisfied: ipython-genutils~=0.2.0 in /usr/local/lib/python3.12/dist-packages (from ipywidgets<8,>=7->mols2grid) (0.2.0)\n",
            "Requirement already satisfied: traitlets>=4.3.1 in /usr/local/lib/python3.12/dist-packages (from ipywidgets<8,>=7->mols2grid) (5.7.1)\n",
            "Requirement already satisfied: widgetsnbextension~=3.6.0 in /usr/local/lib/python3.12/dist-packages (from ipywidgets<8,>=7->mols2grid) (3.6.10)\n",
            "Requirement already satisfied: ipython>=4.0.0 in /usr/local/lib/python3.12/dist-packages (from ipywidgets<8,>=7->mols2grid) (7.34.0)\n",
            "Requirement already satisfied: jupyterlab-widgets>=1.0.0 in /usr/local/lib/python3.12/dist-packages (from ipywidgets<8,>=7->mols2grid) (3.0.15)\n",
            "Requirement already satisfied: MarkupSafe>=2.0 in /usr/local/lib/python3.12/dist-packages (from jinja2>=2.11.0->mols2grid) (3.0.2)\n",
            "Requirement already satisfied: six>=1.5 in /usr/local/lib/python3.12/dist-packages (from python-dateutil>=2.8.2->pandas) (1.17.0)\n",
            "Requirement already satisfied: debugpy>=1.0 in /usr/local/lib/python3.12/dist-packages (from ipykernel>=4.5.1->ipywidgets<8,>=7->mols2grid) (1.8.15)\n",
            "Requirement already satisfied: jupyter-client>=6.1.12 in /usr/local/lib/python3.12/dist-packages (from ipykernel>=4.5.1->ipywidgets<8,>=7->mols2grid) (6.1.12)\n",
            "Requirement already satisfied: matplotlib-inline>=0.1 in /usr/local/lib/python3.12/dist-packages (from ipykernel>=4.5.1->ipywidgets<8,>=7->mols2grid) (0.1.7)\n",
            "Requirement already satisfied: nest-asyncio in /usr/local/lib/python3.12/dist-packages (from ipykernel>=4.5.1->ipywidgets<8,>=7->mols2grid) (1.6.0)\n",
            "Requirement already satisfied: psutil in /usr/local/lib/python3.12/dist-packages (from ipykernel>=4.5.1->ipywidgets<8,>=7->mols2grid) (5.9.5)\n",
            "Requirement already satisfied: pyzmq>=17 in /usr/local/lib/python3.12/dist-packages (from ipykernel>=4.5.1->ipywidgets<8,>=7->mols2grid) (26.2.1)\n",
            "Requirement already satisfied: tornado>=6.1 in /usr/local/lib/python3.12/dist-packages (from ipykernel>=4.5.1->ipywidgets<8,>=7->mols2grid) (6.4.2)\n",
            "Requirement already satisfied: setuptools>=18.5 in /usr/local/lib/python3.12/dist-packages (from ipython>=4.0.0->ipywidgets<8,>=7->mols2grid) (75.2.0)\n",
            "Collecting jedi>=0.16 (from ipython>=4.0.0->ipywidgets<8,>=7->mols2grid)\n",
            "  Downloading jedi-0.19.2-py2.py3-none-any.whl.metadata (22 kB)\n",
            "Requirement already satisfied: decorator in /usr/local/lib/python3.12/dist-packages (from ipython>=4.0.0->ipywidgets<8,>=7->mols2grid) (4.4.2)\n",
            "Requirement already satisfied: pickleshare in /usr/local/lib/python3.12/dist-packages (from ipython>=4.0.0->ipywidgets<8,>=7->mols2grid) (0.7.5)\n",
            "Requirement already satisfied: prompt-toolkit!=3.0.0,!=3.0.1,<3.1.0,>=2.0.0 in /usr/local/lib/python3.12/dist-packages (from ipython>=4.0.0->ipywidgets<8,>=7->mols2grid) (3.0.51)\n",
            "Requirement already satisfied: pygments in /usr/local/lib/python3.12/dist-packages (from ipython>=4.0.0->ipywidgets<8,>=7->mols2grid) (2.19.2)\n",
            "Requirement already satisfied: backcall in /usr/local/lib/python3.12/dist-packages (from ipython>=4.0.0->ipywidgets<8,>=7->mols2grid) (0.2.0)\n",
            "Requirement already satisfied: pexpect>4.3 in /usr/local/lib/python3.12/dist-packages (from ipython>=4.0.0->ipywidgets<8,>=7->mols2grid) (4.9.0)\n",
            "Requirement already satisfied: notebook>=4.4.1 in /usr/local/lib/python3.12/dist-packages (from widgetsnbextension~=3.6.0->ipywidgets<8,>=7->mols2grid) (6.5.7)\n",
            "Requirement already satisfied: parso<0.9.0,>=0.8.4 in /usr/local/lib/python3.12/dist-packages (from jedi>=0.16->ipython>=4.0.0->ipywidgets<8,>=7->mols2grid) (0.8.4)\n",
            "Requirement already satisfied: jupyter-core>=4.6.0 in /usr/local/lib/python3.12/dist-packages (from jupyter-client>=6.1.12->ipykernel>=4.5.1->ipywidgets<8,>=7->mols2grid) (5.8.1)\n",
            "Requirement already satisfied: argon2-cffi in /usr/local/lib/python3.12/dist-packages (from notebook>=4.4.1->widgetsnbextension~=3.6.0->ipywidgets<8,>=7->mols2grid) (25.1.0)\n",
            "Requirement already satisfied: nbformat in /usr/local/lib/python3.12/dist-packages (from notebook>=4.4.1->widgetsnbextension~=3.6.0->ipywidgets<8,>=7->mols2grid) (5.10.4)\n",
            "Requirement already satisfied: nbconvert>=5 in /usr/local/lib/python3.12/dist-packages (from notebook>=4.4.1->widgetsnbextension~=3.6.0->ipywidgets<8,>=7->mols2grid) (7.16.6)\n",
            "Requirement already satisfied: Send2Trash>=1.8.0 in /usr/local/lib/python3.12/dist-packages (from notebook>=4.4.1->widgetsnbextension~=3.6.0->ipywidgets<8,>=7->mols2grid) (1.8.3)\n",
            "Requirement already satisfied: terminado>=0.8.3 in /usr/local/lib/python3.12/dist-packages (from notebook>=4.4.1->widgetsnbextension~=3.6.0->ipywidgets<8,>=7->mols2grid) (0.18.1)\n",
            "Requirement already satisfied: prometheus-client in /usr/local/lib/python3.12/dist-packages (from notebook>=4.4.1->widgetsnbextension~=3.6.0->ipywidgets<8,>=7->mols2grid) (0.22.1)\n",
            "Requirement already satisfied: nbclassic>=0.4.7 in /usr/local/lib/python3.12/dist-packages (from notebook>=4.4.1->widgetsnbextension~=3.6.0->ipywidgets<8,>=7->mols2grid) (1.3.1)\n",
            "Requirement already satisfied: ptyprocess>=0.5 in /usr/local/lib/python3.12/dist-packages (from pexpect>4.3->ipython>=4.0.0->ipywidgets<8,>=7->mols2grid) (0.7.0)\n",
            "Requirement already satisfied: wcwidth in /usr/local/lib/python3.12/dist-packages (from prompt-toolkit!=3.0.0,!=3.0.1,<3.1.0,>=2.0.0->ipython>=4.0.0->ipywidgets<8,>=7->mols2grid) (0.2.13)\n",
            "Requirement already satisfied: platformdirs>=2.5 in /usr/local/lib/python3.12/dist-packages (from jupyter-core>=4.6.0->jupyter-client>=6.1.12->ipykernel>=4.5.1->ipywidgets<8,>=7->mols2grid) (4.3.8)\n",
            "Requirement already satisfied: notebook-shim>=0.2.3 in /usr/local/lib/python3.12/dist-packages (from nbclassic>=0.4.7->notebook>=4.4.1->widgetsnbextension~=3.6.0->ipywidgets<8,>=7->mols2grid) (0.2.4)\n",
            "Requirement already satisfied: beautifulsoup4 in /usr/local/lib/python3.12/dist-packages (from nbconvert>=5->notebook>=4.4.1->widgetsnbextension~=3.6.0->ipywidgets<8,>=7->mols2grid) (4.13.4)\n",
            "Requirement already satisfied: bleach!=5.0.0 in /usr/local/lib/python3.12/dist-packages (from bleach[css]!=5.0.0->nbconvert>=5->notebook>=4.4.1->widgetsnbextension~=3.6.0->ipywidgets<8,>=7->mols2grid) (6.2.0)\n",
            "Requirement already satisfied: defusedxml in /usr/local/lib/python3.12/dist-packages (from nbconvert>=5->notebook>=4.4.1->widgetsnbextension~=3.6.0->ipywidgets<8,>=7->mols2grid) (0.7.1)\n",
            "Requirement already satisfied: jupyterlab-pygments in /usr/local/lib/python3.12/dist-packages (from nbconvert>=5->notebook>=4.4.1->widgetsnbextension~=3.6.0->ipywidgets<8,>=7->mols2grid) (0.3.0)\n",
            "Requirement already satisfied: mistune<4,>=2.0.3 in /usr/local/lib/python3.12/dist-packages (from nbconvert>=5->notebook>=4.4.1->widgetsnbextension~=3.6.0->ipywidgets<8,>=7->mols2grid) (3.1.3)\n",
            "Requirement already satisfied: nbclient>=0.5.0 in /usr/local/lib/python3.12/dist-packages (from nbconvert>=5->notebook>=4.4.1->widgetsnbextension~=3.6.0->ipywidgets<8,>=7->mols2grid) (0.10.2)\n",
            "Requirement already satisfied: pandocfilters>=1.4.1 in /usr/local/lib/python3.12/dist-packages (from nbconvert>=5->notebook>=4.4.1->widgetsnbextension~=3.6.0->ipywidgets<8,>=7->mols2grid) (1.5.1)\n",
            "Requirement already satisfied: fastjsonschema>=2.15 in /usr/local/lib/python3.12/dist-packages (from nbformat->notebook>=4.4.1->widgetsnbextension~=3.6.0->ipywidgets<8,>=7->mols2grid) (2.21.2)\n",
            "Requirement already satisfied: jsonschema>=2.6 in /usr/local/lib/python3.12/dist-packages (from nbformat->notebook>=4.4.1->widgetsnbextension~=3.6.0->ipywidgets<8,>=7->mols2grid) (4.25.1)\n",
            "Requirement already satisfied: argon2-cffi-bindings in /usr/local/lib/python3.12/dist-packages (from argon2-cffi->notebook>=4.4.1->widgetsnbextension~=3.6.0->ipywidgets<8,>=7->mols2grid) (25.1.0)\n",
            "Requirement already satisfied: webencodings in /usr/local/lib/python3.12/dist-packages (from bleach!=5.0.0->bleach[css]!=5.0.0->nbconvert>=5->notebook>=4.4.1->widgetsnbextension~=3.6.0->ipywidgets<8,>=7->mols2grid) (0.5.1)\n",
            "Requirement already satisfied: tinycss2<1.5,>=1.1.0 in /usr/local/lib/python3.12/dist-packages (from bleach[css]!=5.0.0->nbconvert>=5->notebook>=4.4.1->widgetsnbextension~=3.6.0->ipywidgets<8,>=7->mols2grid) (1.4.0)\n",
            "Requirement already satisfied: attrs>=22.2.0 in /usr/local/lib/python3.12/dist-packages (from jsonschema>=2.6->nbformat->notebook>=4.4.1->widgetsnbextension~=3.6.0->ipywidgets<8,>=7->mols2grid) (25.3.0)\n",
            "Requirement already satisfied: jsonschema-specifications>=2023.03.6 in /usr/local/lib/python3.12/dist-packages (from jsonschema>=2.6->nbformat->notebook>=4.4.1->widgetsnbextension~=3.6.0->ipywidgets<8,>=7->mols2grid) (2025.4.1)\n",
            "Requirement already satisfied: referencing>=0.28.4 in /usr/local/lib/python3.12/dist-packages (from jsonschema>=2.6->nbformat->notebook>=4.4.1->widgetsnbextension~=3.6.0->ipywidgets<8,>=7->mols2grid) (0.36.2)\n",
            "Requirement already satisfied: rpds-py>=0.7.1 in /usr/local/lib/python3.12/dist-packages (from jsonschema>=2.6->nbformat->notebook>=4.4.1->widgetsnbextension~=3.6.0->ipywidgets<8,>=7->mols2grid) (0.27.0)\n",
            "Requirement already satisfied: jupyter-server<3,>=1.8 in /usr/local/lib/python3.12/dist-packages (from notebook-shim>=0.2.3->nbclassic>=0.4.7->notebook>=4.4.1->widgetsnbextension~=3.6.0->ipywidgets<8,>=7->mols2grid) (1.16.0)\n",
            "Requirement already satisfied: cffi>=1.0.1 in /usr/local/lib/python3.12/dist-packages (from argon2-cffi-bindings->argon2-cffi->notebook>=4.4.1->widgetsnbextension~=3.6.0->ipywidgets<8,>=7->mols2grid) (1.17.1)\n",
            "Requirement already satisfied: soupsieve>1.2 in /usr/local/lib/python3.12/dist-packages (from beautifulsoup4->nbconvert>=5->notebook>=4.4.1->widgetsnbextension~=3.6.0->ipywidgets<8,>=7->mols2grid) (2.7)\n",
            "Requirement already satisfied: typing-extensions>=4.0.0 in /usr/local/lib/python3.12/dist-packages (from beautifulsoup4->nbconvert>=5->notebook>=4.4.1->widgetsnbextension~=3.6.0->ipywidgets<8,>=7->mols2grid) (4.14.1)\n",
            "Requirement already satisfied: pycparser in /usr/local/lib/python3.12/dist-packages (from cffi>=1.0.1->argon2-cffi-bindings->argon2-cffi->notebook>=4.4.1->widgetsnbextension~=3.6.0->ipywidgets<8,>=7->mols2grid) (2.22)\n",
            "Requirement already satisfied: anyio>=3.1.0 in /usr/local/lib/python3.12/dist-packages (from jupyter-server<3,>=1.8->notebook-shim>=0.2.3->nbclassic>=0.4.7->notebook>=4.4.1->widgetsnbextension~=3.6.0->ipywidgets<8,>=7->mols2grid) (4.10.0)\n",
            "Requirement already satisfied: websocket-client in /usr/local/lib/python3.12/dist-packages (from jupyter-server<3,>=1.8->notebook-shim>=0.2.3->nbclassic>=0.4.7->notebook>=4.4.1->widgetsnbextension~=3.6.0->ipywidgets<8,>=7->mols2grid) (1.8.0)\n",
            "Requirement already satisfied: idna>=2.8 in /usr/local/lib/python3.12/dist-packages (from anyio>=3.1.0->jupyter-server<3,>=1.8->notebook-shim>=0.2.3->nbclassic>=0.4.7->notebook>=4.4.1->widgetsnbextension~=3.6.0->ipywidgets<8,>=7->mols2grid) (3.10)\n",
            "Requirement already satisfied: sniffio>=1.1 in /usr/local/lib/python3.12/dist-packages (from anyio>=3.1.0->jupyter-server<3,>=1.8->notebook-shim>=0.2.3->nbclassic>=0.4.7->notebook>=4.4.1->widgetsnbextension~=3.6.0->ipywidgets<8,>=7->mols2grid) (1.3.1)\n",
            "Downloading rdkit-2025.3.5-cp312-cp312-manylinux_2_28_x86_64.whl (36.2 MB)\n",
            "\u001b[2K   \u001b[90m━━━━━━━━━━━━━━━━━━━━━━━━━━━━━━━━━━━━━━━━\u001b[0m \u001b[32m36.2/36.2 MB\u001b[0m \u001b[31m47.9 MB/s\u001b[0m eta \u001b[36m0:00:00\u001b[0m\n",
            "\u001b[?25hDownloading py3dmol-2.5.2-py2.py3-none-any.whl (7.2 kB)\n",
            "Downloading mols2grid-2.0.0-py3-none-any.whl (107 kB)\n",
            "\u001b[2K   \u001b[90m━━━━━━━━━━━━━━━━━━━━━━━━━━━━━━━━━━━━━━━━\u001b[0m \u001b[32m107.0/107.0 kB\u001b[0m \u001b[31m9.2 MB/s\u001b[0m eta \u001b[36m0:00:00\u001b[0m\n",
            "\u001b[?25hDownloading jedi-0.19.2-py2.py3-none-any.whl (1.6 MB)\n",
            "\u001b[2K   \u001b[90m━━━━━━━━━━━━━━━━━━━━━━━━━━━━━━━━━━━━━━━━\u001b[0m \u001b[32m1.6/1.6 MB\u001b[0m \u001b[31m70.0 MB/s\u001b[0m eta \u001b[36m0:00:00\u001b[0m\n",
            "\u001b[?25hInstalling collected packages: py3Dmol, rdkit, jedi, mols2grid\n",
            "Successfully installed jedi-0.19.2 mols2grid-2.0.0 py3Dmol-2.5.2 rdkit-2025.3.5\n",
            "--2025-08-25 22:33:08--  https://github.com/gmseabra/MolDB-Exploration/blob/52ea789c55ba89377e37d75211ebfbd08f631e9b/data/ChEMBL_COX-2_2024-08-28.csv\n",
            "Resolving github.com (github.com)... 140.82.113.4\n",
            "Connecting to github.com (github.com)|140.82.113.4|:443... connected.\n",
            "HTTP request sent, awaiting response... 200 OK\n",
            "Length: unspecified [text/html]\n",
            "Saving to: ‘data/ChEMBL_COX-2_2024-08-28.csv’\n",
            "\n",
            "data/ChEMBL_COX-2_2     [ <=>                ] 181.11K  --.-KB/s    in 0.009s  \n",
            "\n",
            "2025-08-25 22:33:08 (18.9 MB/s) - ‘data/ChEMBL_COX-2_2024-08-28.csv’ saved [185456]\n",
            "\n",
            "--2025-08-25 22:33:08--  https://github.com/gmseabra/MolDB-Exploration/blob/52ea789c55ba89377e37d75211ebfbd08f631e9b/utils/preprocess.py\n",
            "Resolving github.com (github.com)... 140.82.113.3\n",
            "Connecting to github.com (github.com)|140.82.113.3|:443... connected.\n",
            "HTTP request sent, awaiting response... 200 OK\n",
            "Length: unspecified [text/html]\n",
            "Saving to: ‘utils/utils.py’\n",
            "\n",
            "utils/utils.py          [ <=>                ] 196.55K  --.-KB/s    in 0.01s   \n",
            "\n",
            "2025-08-25 22:33:09 (20.1 MB/s) - ‘utils/utils.py’ saved [201266]\n",
            "\n"
          ]
        }
      ]
    },
    {
      "cell_type": "markdown",
      "id": "dated-tribune",
      "metadata": {
        "id": "dated-tribune"
      },
      "source": [
        "# Imports"
      ]
    },
    {
      "cell_type": "code",
      "execution_count": null,
      "id": "forward-turkish",
      "metadata": {
        "tags": [],
        "id": "forward-turkish"
      },
      "outputs": [],
      "source": [
        "# -- Data & Plotting\n",
        "import numpy as np\n",
        "import pandas as pd\n",
        "import matplotlib.pyplot as plt\n",
        "import seaborn as sns\n",
        "\n",
        "# Progress Bar\n",
        "from tqdm import tqdm, tnrange, tqdm_notebook\n",
        "tqdm.pandas()\n",
        "\n",
        "# -- RDKit\n",
        "import rdkit\n",
        "from rdkit import Chem\n",
        "from rdkit.Chem import AllChem, Draw, PandasTools\n",
        "from rdkit.Chem.Draw import IPythonConsole\n",
        "PandasTools.RenderImagesInAllDataFrames()\n",
        "print(\"RDKit Version: \", rdkit.__version__)"
      ]
    },
    {
      "cell_type": "code",
      "execution_count": null,
      "id": "capable-direction",
      "metadata": {
        "tags": [],
        "id": "capable-direction"
      },
      "outputs": [],
      "source": [
        "# This will allow us to see all columns:\n",
        "pd.set_option(\"display.max_columns\", 100)\n",
        "\n",
        "# To disable it, do:\n",
        "# pd.reset_option(\"^display\")\n",
        "\n",
        "# To get details:\n",
        "pd.get_option(\"display.max_columns\")\n",
        "\n",
        "# More information at:\n",
        "# https://pandas.pydata.org/pandas-docs/stable/user_guide/options.html#getting-and-setting-options"
      ]
    },
    {
      "cell_type": "markdown",
      "id": "flush-tsunami",
      "metadata": {
        "id": "flush-tsunami"
      },
      "source": [
        "# Obtaining the database\n",
        "Today we will be working with a database of compounds that wre somehow tested against the\n",
        "human cycloxoygenase-2 ([COX-2](https://en.wikipedia.org/wiki/Cyclooxygenase-2)),\n",
        "which is involved in pain and inflammation processes.\n",
        "NSAIDS that selectively target COX-2 ([coxibs](https://en.wikipedia.org/wiki/Cyclooxygenase-2_inhibitor))\n",
        "reduce the risk of peptic ulcers associated with the inhibition of a related enzyme,\n",
        "[COX-1](https://en.wikipedia.org/wiki/Cyclooxygenase-1).\n",
        "\n",
        "We can obtain a database of compounds tested against COX-2 by searching different databases,\n",
        "the main ones being [PubChem](https://pubchem.ncbi.nlm.nih.gov/), maintained by the NIH,\n",
        "and [ChEMBL](https://www.ebi.ac.uk/chembl/), maintained by the European Bioinformatics Institute.\n",
        "\n",
        "Here, we will work with compounds obtained from the ChEMBL database. The process to obtain the database is the following:\n",
        "1. Navigate to the [ChEMBL](https://www.ebi.ac.uk/chembl/) site, and search for \"COX-2\", **but don't hit enter yet!**\n",
        "2. From the drop-down list, under \"Targets\", select \"COX-2\". That will return a page with different \"COX-2\" targets\n",
        "3. Scroll down to the human COX-2 (CHEMBL230):\n",
        "<a href=\"https://www.ebi.ac.uk/chembl/target_report_card/CHEMBL230/\"><img src=\"https://github.com/gmseabra/MolDB-Exploration/blob/main/media/ChEMBL_COX-2.png?raw=1\" border=1 /></a> <br>\n",
        "Clicking on the header will take you to the page with COX-2 data.\n",
        "4. Finally,scroll to **\"Activity Charts\"**, and click on the **\"Activity Types for CHEMBL230 (Cyclooxygenase-2)\"** link:\n",
        "<a href=\"https://www.ebi.ac.uk/chembl/web_components/explore/activities/STATE_ID:A7tQ9Eh8n8uuiWNfvBq-yw%3D%3D\"><img src=\"https://github.com/gmseabra/MolDB-Exploration/blob/main/media/ChEMBL_COX-2_activities.png?raw=1\" border=1 /></a> <br>\n",
        "It will take you to a list of 13,999 compounds (as of 08/28/2024) with measured activity against COX-2,\n",
        "which you can download as a CSV file by clicking the <img src=\"https://github.com/gmseabra/MolDB-Exploration/blob/main/media/ChEMBL_CSV.png?raw=1\" alt=\"CSV\" /> button.\n",
        "\n",
        "\n",
        "<div class=\"alert alert-info\" role=\"alert\">\n",
        "    Note: It may take a while. To speed up our class, the file is already available here in the data folder: `data/ChEMBL_COX-2_2024-08-28.csv`.\n",
        "</div>\n",
        "\n",
        "\n",
        "And we're ready to start exploring!"
      ]
    },
    {
      "cell_type": "markdown",
      "id": "455d990e-129d-44e0-bc27-994cfd073cb9",
      "metadata": {
        "id": "455d990e-129d-44e0-bc27-994cfd073cb9"
      },
      "source": [
        "# Exploring the database\n",
        "The CSV file from ChEMBL has a weird format, with \";\" separating the columnns!"
      ]
    },
    {
      "cell_type": "code",
      "execution_count": null,
      "id": "joint-bruce",
      "metadata": {
        "tags": [],
        "id": "joint-bruce"
      },
      "outputs": [],
      "source": [
        "cox2db = pd.read_csv(\"data/ChEMBL_COX-2_2024-08-28.csv\", sep=\";\")\n",
        "cox2db.head(5)"
      ]
    },
    {
      "cell_type": "markdown",
      "id": "d056a096-8354-49f9-a34f-6d5e9beb1570",
      "metadata": {
        "id": "d056a096-8354-49f9-a34f-6d5e9beb1570"
      },
      "source": [
        "That's a lot of stuff. This is the list of columns available:"
      ]
    },
    {
      "cell_type": "code",
      "execution_count": null,
      "id": "worthy-conversion",
      "metadata": {
        "tags": [],
        "id": "worthy-conversion"
      },
      "outputs": [],
      "source": [
        "cox2db.columns"
      ]
    },
    {
      "cell_type": "code",
      "execution_count": null,
      "id": "brutal-stupid",
      "metadata": {
        "tags": [],
        "id": "brutal-stupid"
      },
      "outputs": [],
      "source": [
        "cox2db.shape"
      ]
    },
    {
      "cell_type": "markdown",
      "id": "dominant-removal",
      "metadata": {
        "id": "dominant-removal"
      },
      "source": [
        "## Unique molecules"
      ]
    },
    {
      "cell_type": "markdown",
      "id": "lasting-capacity",
      "metadata": {
        "id": "lasting-capacity"
      },
      "source": [
        "The database has a total of 13,999 *entries*, which were collected from diverse sources. How many are really unique? We can check by the `ChEMBL ID`, which is an unique identifier for each molecule:"
      ]
    },
    {
      "cell_type": "code",
      "execution_count": null,
      "id": "searching-thanks",
      "metadata": {
        "tags": [],
        "id": "searching-thanks"
      },
      "outputs": [],
      "source": [
        "len(cox2db['Molecule ChEMBL ID'].unique())"
      ]
    },
    {
      "cell_type": "markdown",
      "id": "federal-chapter",
      "metadata": {
        "id": "federal-chapter"
      },
      "source": [
        "From the total of 13,999 entries, only 8,582 have unique IDs.\n",
        "\n",
        "Furthermore, if we check the SMILES representations:"
      ]
    },
    {
      "cell_type": "code",
      "execution_count": null,
      "id": "essential-billy",
      "metadata": {
        "tags": [],
        "id": "essential-billy"
      },
      "outputs": [],
      "source": [
        "len(cox2db['Smiles'].unique())"
      ]
    },
    {
      "cell_type": "markdown",
      "id": "7b0c78f4-9641-4b4f-96b0-05a42dc506f6",
      "metadata": {
        "id": "7b0c78f4-9641-4b4f-96b0-05a42dc506f6"
      },
      "source": [
        "There seems to be some molecules with different IDs but the same SMILES!\n",
        "\n",
        "Let's look at the repetitions of molecules with the same ID:"
      ]
    },
    {
      "cell_type": "code",
      "execution_count": null,
      "id": "aggregate-fifth",
      "metadata": {
        "tags": [],
        "id": "aggregate-fifth"
      },
      "outputs": [],
      "source": [
        "id_counts = cox2db['Molecule ChEMBL ID'].value_counts()\n",
        "id_counts"
      ]
    },
    {
      "cell_type": "markdown",
      "id": "proved-serum",
      "metadata": {
        "id": "proved-serum"
      },
      "source": [
        "Some molecules appear in various experiments. For example, Celecoxib ([CHEMBL118](https://www.ebi.ac.uk/chembl/compound_report_card/CHEMBL118/)) is a reference in many studies."
      ]
    },
    {
      "cell_type": "code",
      "execution_count": null,
      "id": "lyric-scratch",
      "metadata": {
        "tags": [],
        "id": "lyric-scratch"
      },
      "outputs": [],
      "source": [
        "Chem.MolFromSmiles(cox2db[ cox2db['Molecule ChEMBL ID'] == 'CHEMBL118']['Smiles'].unique()[0])"
      ]
    },
    {
      "cell_type": "markdown",
      "id": "documented-growth",
      "metadata": {
        "id": "documented-growth"
      },
      "source": [
        "## Example: Celecoxib (CHEMBL118)"
      ]
    },
    {
      "cell_type": "markdown",
      "id": "assumed-shark",
      "metadata": {
        "id": "assumed-shark"
      },
      "source": [
        "It is likely that the repetitions mean different assays. Especially, some common known COX-2 inhibitors are used in many assays as reference. For example, Celecoxib ([CHEMBL118](https://www.ebi.ac.uk/chembl/compound_report_card/CHEMBL118/)) appears in 287 different assays of 10 different types:"
      ]
    },
    {
      "cell_type": "code",
      "execution_count": null,
      "id": "seventh-treaty",
      "metadata": {
        "tags": [],
        "id": "seventh-treaty"
      },
      "outputs": [],
      "source": [
        "len(cox2db[ cox2db['Molecule ChEMBL ID'] == 'CHEMBL118']['Assay ChEMBL ID'].unique())"
      ]
    },
    {
      "cell_type": "code",
      "execution_count": null,
      "id": "elegant-natural",
      "metadata": {
        "tags": [],
        "id": "elegant-natural"
      },
      "outputs": [],
      "source": [
        "cox2db[ cox2db['Molecule ChEMBL ID'] == 'CHEMBL118']['Standard Type'].value_counts()"
      ]
    },
    {
      "cell_type": "markdown",
      "id": "straight-quantum",
      "metadata": {
        "id": "straight-quantum"
      },
      "source": [
        "### $IC_{50}s$"
      ]
    },
    {
      "cell_type": "markdown",
      "id": "armed-people",
      "metadata": {
        "id": "armed-people"
      },
      "source": [
        "Most values (209) are for IC50, which is notoriously imprecise. Note the variation in values:"
      ]
    },
    {
      "cell_type": "code",
      "execution_count": null,
      "id": "listed-typing",
      "metadata": {
        "tags": [],
        "id": "listed-typing"
      },
      "outputs": [],
      "source": [
        "cox2db[ (cox2db['Molecule ChEMBL ID'] == 'CHEMBL118') & (cox2db['Standard Type'] == 'IC50')][\"Standard Value\"].describe()"
      ]
    },
    {
      "cell_type": "markdown",
      "id": "e61f7967-e647-42ee-8bbe-2a59224ceeba",
      "metadata": {
        "id": "e61f7967-e647-42ee-8bbe-2a59224ceeba"
      },
      "source": [
        "First, let's check how many different units are used:"
      ]
    },
    {
      "cell_type": "code",
      "execution_count": null,
      "id": "abandoned-december",
      "metadata": {
        "tags": [],
        "id": "abandoned-december"
      },
      "outputs": [],
      "source": [
        "cox2db[ (cox2db['Molecule ChEMBL ID'] == 'CHEMBL118') & (cox2db['Standard Type'] == 'IC50')][\"Standard Units\"].unique()"
      ]
    },
    {
      "cell_type": "markdown",
      "id": "1695033a-8eba-4e4a-8955-49a7cefdebf7",
      "metadata": {
        "id": "1695033a-8eba-4e4a-8955-49a7cefdebf7"
      },
      "source": [
        "Good... At least it seems to have only one unit reported. So, let's take a look into the results:"
      ]
    },
    {
      "cell_type": "code",
      "execution_count": null,
      "id": "unusual-rough",
      "metadata": {
        "tags": [],
        "id": "unusual-rough"
      },
      "outputs": [],
      "source": [
        "g = sns.stripplot(data = cox2db[ (cox2db['Molecule ChEMBL ID'] == 'CHEMBL118') &\n",
        "                                 (cox2db['Standard Type'] == 'IC50')\n",
        "                               ],\n",
        "                   x = \"Standard Value\")\n",
        "g.set(xlabel='IC50 Value')"
      ]
    },
    {
      "cell_type": "markdown",
      "id": "7fd370aa-588c-482e-bbd3-8cb8f9db4321",
      "metadata": {
        "id": "7fd370aa-588c-482e-bbd3-8cb8f9db4321"
      },
      "source": [
        "Ugh!!\n",
        "\n",
        "The most likely reason for the very high values are wrong reported units or typos. ChEMBL provides a column with comments about data validity:"
      ]
    },
    {
      "cell_type": "code",
      "execution_count": null,
      "id": "seventh-asset",
      "metadata": {
        "tags": [],
        "id": "seventh-asset"
      },
      "outputs": [],
      "source": [
        "cox2db['Data Validity Comment'].unique()"
      ]
    },
    {
      "cell_type": "markdown",
      "id": "da62b329-cbbd-4e07-83b2-2555386a732e",
      "metadata": {
        "tags": [],
        "id": "da62b329-cbbd-4e07-83b2-2555386a732e"
      },
      "source": [
        "Let's see which comments are in the database:"
      ]
    },
    {
      "cell_type": "code",
      "execution_count": null,
      "id": "a56ff6cd-7481-4fb5-9b46-3df2426c429b",
      "metadata": {
        "tags": [],
        "id": "a56ff6cd-7481-4fb5-9b46-3df2426c429b"
      },
      "outputs": [],
      "source": [
        "cox2db['Data Validity Comment'].value_counts()"
      ]
    },
    {
      "cell_type": "markdown",
      "id": "74b74544-1e8d-4139-864b-14e2252440d8",
      "metadata": {
        "id": "74b74544-1e8d-4139-864b-14e2252440d8"
      },
      "source": [
        "The `Data Validity Comment` column only has any contents when there is some indication that the data may be wrong. So, we can use this column to filter out obviuos outliers and dubious data. Does it get better?"
      ]
    },
    {
      "cell_type": "code",
      "execution_count": null,
      "id": "d304ab8c-28b6-4989-8d5a-c298721f14da",
      "metadata": {
        "tags": [],
        "id": "d304ab8c-28b6-4989-8d5a-c298721f14da"
      },
      "outputs": [],
      "source": [
        "g = sns.stripplot(data = cox2db[ (cox2db['Molecule ChEMBL ID'] == 'CHEMBL118') &\n",
        "                                 (cox2db['Standard Type'] == 'IC50') &\n",
        "                                 (cox2db['Data Validity Comment'].isna())\n",
        "                               ],\n",
        "                   x = \"Standard Value\")\n",
        "g.set(xlabel='IC50 Value')"
      ]
    },
    {
      "cell_type": "markdown",
      "id": "linear-lobby",
      "metadata": {
        "id": "linear-lobby"
      },
      "source": [
        "A bit better... But there's still some values that are way too high. If we remove the aberrant values above 1,000, we get:"
      ]
    },
    {
      "cell_type": "code",
      "execution_count": null,
      "id": "silver-union",
      "metadata": {
        "tags": [],
        "id": "silver-union"
      },
      "outputs": [],
      "source": [
        "g = sns.swarmplot(data = cox2db[ (cox2db['Molecule ChEMBL ID'] == 'CHEMBL118') &\n",
        "                                 (cox2db['Standard Type'] == 'IC50') &\n",
        "                                 (cox2db['Data Validity Comment'].isna()) &\n",
        "                                 (cox2db['Standard Value'] < 1000)\n",
        "                               ],\n",
        "                   x = \"Standard Value\")\n",
        "g.set(xlabel='IC50 Value')"
      ]
    },
    {
      "cell_type": "markdown",
      "id": "42d601e2-dabc-4399-9bfd-d410d6e74013",
      "metadata": {
        "id": "42d601e2-dabc-4399-9bfd-d410d6e74013"
      },
      "source": [
        "So, what is the $IC_{50}$ for Celecoxib, after all?"
      ]
    },
    {
      "cell_type": "markdown",
      "id": "artistic-allah",
      "metadata": {
        "id": "artistic-allah"
      },
      "source": [
        "As an aside, instead of the $IC_{50}s$, we can use the $-Log(IC_{50})$ value, which has less variation. Let's look at it's distribution:"
      ]
    },
    {
      "cell_type": "code",
      "execution_count": null,
      "id": "lined-harbor",
      "metadata": {
        "tags": [],
        "id": "lined-harbor"
      },
      "outputs": [],
      "source": [
        "sns.swarmplot(data=cox2db[(cox2db['Molecule ChEMBL ID'] == 'CHEMBL118') &\n",
        "                          (cox2db['Standard Type'] == 'IC50') &\n",
        "                          (cox2db['Standard Relation'] == \"'='\") &\n",
        "                          (cox2db['Data Validity Comment'].isna()) &\n",
        "                          (cox2db['Standard Value'] < 1000)\n",
        "                        ],\n",
        "             x='pChEMBL Value')"
      ]
    },
    {
      "cell_type": "markdown",
      "id": "offshore-computer",
      "metadata": {
        "id": "offshore-computer"
      },
      "source": [
        "### Inhibition"
      ]
    },
    {
      "cell_type": "markdown",
      "id": "overhead-casting",
      "metadata": {
        "id": "overhead-casting"
      },
      "source": [
        "66 of the experiments report \"Inhibition\":"
      ]
    },
    {
      "cell_type": "code",
      "execution_count": null,
      "id": "affiliated-nutrition",
      "metadata": {
        "tags": [],
        "id": "affiliated-nutrition"
      },
      "outputs": [],
      "source": [
        "# Inhibition\n",
        "data = cox2db[ (cox2db['Molecule ChEMBL ID'] == 'CHEMBL118') &\n",
        "               (cox2db['Standard Type'] == 'Inhibition')     &\n",
        "               (cox2db['Standard Units'] == '%')]\n",
        "\n",
        "sns.histplot(data = data, x='Standard Value')"
      ]
    },
    {
      "cell_type": "code",
      "execution_count": null,
      "id": "minor-poker",
      "metadata": {
        "tags": [],
        "id": "minor-poker"
      },
      "outputs": [],
      "source": [
        "data[\"Standard Value\"].describe()"
      ]
    },
    {
      "cell_type": "markdown",
      "id": "stuffed-services",
      "metadata": {
        "id": "stuffed-services"
      },
      "source": [
        "### Activity"
      ]
    },
    {
      "cell_type": "markdown",
      "id": "personal-light",
      "metadata": {
        "id": "personal-light"
      },
      "source": [
        "8 entries are just labeled \"Activity\", but the information seems meaningless. They are probably relative to some other compound, not shown here. That means those numbers cannot be used!"
      ]
    },
    {
      "cell_type": "code",
      "execution_count": null,
      "id": "regulation-statistics",
      "metadata": {
        "id": "regulation-statistics"
      },
      "outputs": [],
      "source": [
        "data = cox2db[ (cox2db['Molecule ChEMBL ID'] == 'CHEMBL118') & (cox2db['Standard Type'] == 'Activity')]\n",
        "sns.barplot(data=data, x=data.index, y='Standard Value')"
      ]
    },
    {
      "cell_type": "markdown",
      "id": "usual-lawyer",
      "metadata": {
        "id": "usual-lawyer"
      },
      "source": [
        "### $\\Delta G$, $K_a$ and $K_i$"
      ]
    },
    {
      "cell_type": "markdown",
      "id": "humanitarian-clark",
      "metadata": {
        "id": "humanitarian-clark"
      },
      "source": [
        "Those are usually the most precise types of data, but are harder to get. There's only 4 values in the data, and it turns out the numbers in the database are not very informative:"
      ]
    },
    {
      "cell_type": "code",
      "execution_count": null,
      "id": "revised-discussion",
      "metadata": {
        "tags": [],
        "id": "revised-discussion"
      },
      "outputs": [],
      "source": [
        "data = cox2db[ (cox2db['Molecule ChEMBL ID'] == 'CHEMBL118') &\n",
        "                 ((cox2db['Standard Type'] == 'Delta G') |\n",
        "                  (cox2db['Standard Type'] == 'Ka')      |\n",
        "                  (cox2db['Standard Type'] == 'Ki')\n",
        "                 )]\n",
        "data"
      ]
    },
    {
      "cell_type": "markdown",
      "id": "hispanic-embassy",
      "metadata": {
        "id": "hispanic-embassy"
      },
      "source": [
        "This $K_a$ can be converted to a $\\Delta G$ by\n",
        "\n",
        "$\\Delta G = -R T Ln(K_a)$.\n",
        "\n",
        "Using:\n",
        "- $R = 1.987 \\times 10^{-3} kcal \\cdot K^{−1} \\cdot mol−1$\n",
        "- $T = 298 K$\n",
        "\n",
        "we get $\\Delta G = -5.91 kcal/mol$ ."
      ]
    },
    {
      "cell_type": "markdown",
      "id": "tested-grenada",
      "metadata": {
        "id": "tested-grenada"
      },
      "source": [
        "## Exploring the Data Types in the Full Database"
      ]
    },
    {
      "cell_type": "code",
      "execution_count": null,
      "id": "thermal-donor",
      "metadata": {
        "tags": [],
        "id": "thermal-donor"
      },
      "outputs": [],
      "source": [
        "data = cox2db['Standard Type'].value_counts()\n",
        "data"
      ]
    },
    {
      "cell_type": "code",
      "execution_count": null,
      "id": "broken-grocery",
      "metadata": {
        "tags": [],
        "id": "broken-grocery"
      },
      "outputs": [],
      "source": [
        "g = sns.barplot(x=data.index, y=data.values)\n",
        "g = g.set_xticklabels(g.get_xticklabels(),rotation=90)"
      ]
    },
    {
      "cell_type": "markdown",
      "id": "alpine-jacket",
      "metadata": {
        "id": "alpine-jacket"
      },
      "source": [
        "So, most of the data is in the form of IC50s. Some molecules also have inhibition, Ki and activity. Let's take a look at the different kinds of data."
      ]
    },
    {
      "cell_type": "markdown",
      "id": "hawaiian-firewall",
      "metadata": {
        "id": "hawaiian-firewall"
      },
      "source": [
        "### $IC_{50}s$"
      ]
    },
    {
      "cell_type": "markdown",
      "id": "conscious-maple",
      "metadata": {
        "id": "conscious-maple"
      },
      "source": [
        "We got lucky with Celecoxib. When we look at the full data, the IC50 data is reported in many different units:"
      ]
    },
    {
      "cell_type": "code",
      "execution_count": null,
      "id": "positive-uniform",
      "metadata": {
        "tags": [],
        "id": "positive-uniform"
      },
      "outputs": [],
      "source": [
        "data = cox2db[cox2db['Standard Type'] == 'IC50']\n",
        "data['Standard Units'].value_counts()"
      ]
    },
    {
      "cell_type": "markdown",
      "id": "c06b6238-d680-4cfe-947e-cce1823a2598",
      "metadata": {
        "id": "c06b6238-d680-4cfe-947e-cce1823a2598"
      },
      "source": [
        "We can probably discard all that are not in nM units. Still, even if we only consider the data in 'nM', apparently there's data without values, either in 'Standard Value' or 'pChEMBL value':"
      ]
    },
    {
      "cell_type": "code",
      "execution_count": null,
      "id": "corrected-world",
      "metadata": {
        "tags": [],
        "id": "corrected-world"
      },
      "outputs": [],
      "source": [
        "data = data[ data['Standard Units'] == 'nM' ]\n",
        "data['Standard Value'].isna().any(), data['pChEMBL Value'].isna().any()"
      ]
    },
    {
      "cell_type": "markdown",
      "id": "0a225d58-cd8b-4294-95de-55ffc4326954",
      "metadata": {
        "id": "0a225d58-cd8b-4294-95de-55ffc4326954"
      },
      "source": [
        "19 entries are missing the values:"
      ]
    },
    {
      "cell_type": "code",
      "execution_count": null,
      "id": "floppy-alcohol",
      "metadata": {
        "tags": [],
        "id": "floppy-alcohol"
      },
      "outputs": [],
      "source": [
        "data['Standard Value'].isna().sum()"
      ]
    },
    {
      "cell_type": "markdown",
      "id": "7f12812a-87e3-49ea-a444-bc9f080bc3a9",
      "metadata": {
        "id": "7f12812a-87e3-49ea-a444-bc9f080bc3a9"
      },
      "source": [
        "Also, 1 of them don't have SMILES string:"
      ]
    },
    {
      "cell_type": "code",
      "execution_count": null,
      "id": "maritime-announcement",
      "metadata": {
        "tags": [],
        "id": "maritime-announcement"
      },
      "outputs": [],
      "source": [
        "data['Smiles'].isna().sum()"
      ]
    },
    {
      "cell_type": "markdown",
      "id": "b2af1691-db63-4492-b508-9a15ce9a3823",
      "metadata": {
        "id": "b2af1691-db63-4492-b508-9a15ce9a3823"
      },
      "source": [
        "Some were out of detection limits:"
      ]
    },
    {
      "cell_type": "code",
      "execution_count": null,
      "id": "e890830d-21ce-4856-b345-f81714548a56",
      "metadata": {
        "tags": [],
        "id": "e890830d-21ce-4856-b345-f81714548a56"
      },
      "outputs": [],
      "source": [
        "data['Standard Relation'].value_counts()"
      ]
    },
    {
      "cell_type": "markdown",
      "id": "headed-wrist",
      "metadata": {
        "id": "headed-wrist"
      },
      "source": [
        "The maximum and minimum values are also weird an $IC_{50}$ of 0 nM makes no sense:"
      ]
    },
    {
      "cell_type": "code",
      "execution_count": null,
      "id": "qualified-identity",
      "metadata": {
        "tags": [],
        "id": "qualified-identity"
      },
      "outputs": [],
      "source": [
        "data['Standard Value'].max(), data['Standard Value'].min()"
      ]
    },
    {
      "cell_type": "code",
      "execution_count": null,
      "id": "prospective-strand",
      "metadata": {
        "tags": [],
        "id": "prospective-strand"
      },
      "outputs": [],
      "source": [
        "data['Standard Value'].describe()"
      ]
    },
    {
      "cell_type": "markdown",
      "id": "dd42246a-a336-414b-a405-94cacaa1671f",
      "metadata": {
        "id": "dd42246a-a336-414b-a405-94cacaa1671f"
      },
      "source": [
        "when preparing a final database, we'll need to filter those outliers."
      ]
    },
    {
      "cell_type": "markdown",
      "id": "smaller-blank",
      "metadata": {
        "id": "smaller-blank"
      },
      "source": [
        "### Inhibition"
      ]
    },
    {
      "cell_type": "code",
      "execution_count": null,
      "id": "purple-practice",
      "metadata": {
        "tags": [],
        "id": "purple-practice"
      },
      "outputs": [],
      "source": [
        "data = cox2db[ cox2db['Standard Type'] == 'Inhibition' ]"
      ]
    },
    {
      "cell_type": "markdown",
      "id": "saving-article",
      "metadata": {
        "id": "saving-article"
      },
      "source": [
        "Some inhibitions are in $\\mu M$ units, which doesn't make much sense. Let's remove those."
      ]
    },
    {
      "cell_type": "code",
      "execution_count": null,
      "id": "dense-message",
      "metadata": {
        "tags": [],
        "id": "dense-message"
      },
      "outputs": [],
      "source": [
        "data['Standard Units'].value_counts()"
      ]
    },
    {
      "cell_type": "code",
      "execution_count": null,
      "id": "under-batch",
      "metadata": {
        "tags": [],
        "id": "under-batch"
      },
      "outputs": [],
      "source": [
        "data = data[ data['Standard Units'] == '%' ]"
      ]
    },
    {
      "cell_type": "markdown",
      "id": "3c19a1ae-2b11-497e-98b9-3501f03c9f91",
      "metadata": {
        "tags": [],
        "id": "3c19a1ae-2b11-497e-98b9-3501f03c9f91"
      },
      "source": [
        "Some of the values are empty:"
      ]
    },
    {
      "cell_type": "code",
      "execution_count": null,
      "id": "difficult-leader",
      "metadata": {
        "tags": [],
        "id": "difficult-leader"
      },
      "outputs": [],
      "source": [
        "data['Standard Value'].isna().any()"
      ]
    },
    {
      "cell_type": "code",
      "execution_count": null,
      "id": "usual-ideal",
      "metadata": {
        "tags": [],
        "id": "usual-ideal"
      },
      "outputs": [],
      "source": [
        "data['Standard Value'].describe()"
      ]
    },
    {
      "cell_type": "code",
      "execution_count": null,
      "id": "collected-appearance",
      "metadata": {
        "tags": [],
        "id": "collected-appearance"
      },
      "outputs": [],
      "source": [
        "data['Standard Value'].hist()"
      ]
    },
    {
      "cell_type": "markdown",
      "id": "super-creator",
      "metadata": {
        "id": "super-creator"
      },
      "source": [
        "What does it mean to have **negative** % inhibition????"
      ]
    },
    {
      "cell_type": "code",
      "execution_count": null,
      "id": "million-prize",
      "metadata": {
        "tags": [],
        "id": "million-prize"
      },
      "outputs": [],
      "source": [
        "data[data['Standard Value'] < 0].head()"
      ]
    },
    {
      "cell_type": "markdown",
      "id": "injured-founder",
      "metadata": {
        "id": "injured-founder"
      },
      "source": [
        "A look at the source for the second entry reveals that this compound can actually be considered an activator of COX-2!!\n",
        " - ChEMBL Document [CHEMBL1149153](https://www.ebi.ac.uk/chembl/document_report_card/CHEMBL1149153/)\n",
        " - J. Med. Chem. 2004, 47, 9, 2180–2193 [here](https://pubs.acs.org/doi/10.1021/jm030276s)\n",
        "\n",
        "\n",
        "That means that, to use inhibitions, we should also remove data vith inhibition < 0."
      ]
    },
    {
      "cell_type": "markdown",
      "id": "d9e1e42f-d9df-4fd3-b5cb-91a675928977",
      "metadata": {
        "id": "d9e1e42f-d9df-4fd3-b5cb-91a675928977"
      },
      "source": [
        "**Exercise:** Check the presence of valid dat and SMILES."
      ]
    },
    {
      "cell_type": "markdown",
      "id": "d7e4adf8-c365-4839-9413-baa6bfa135b9",
      "metadata": {
        "tags": [],
        "id": "d7e4adf8-c365-4839-9413-baa6bfa135b9"
      },
      "source": [
        "### $AC_{50}s$"
      ]
    },
    {
      "cell_type": "markdown",
      "id": "73bc524c-2d1c-4025-ab32-9273c389c57f",
      "metadata": {
        "id": "73bc524c-2d1c-4025-ab32-9273c389c57f"
      },
      "source": [
        "The third in the list is the concentration for half-maximal activity, $AC_{50}$:"
      ]
    },
    {
      "cell_type": "code",
      "execution_count": null,
      "id": "1de5396a-56d8-413e-931c-7751b0bae89c",
      "metadata": {
        "tags": [],
        "id": "1de5396a-56d8-413e-931c-7751b0bae89c"
      },
      "outputs": [],
      "source": [
        "data = cox2db[cox2db['Standard Type'] == 'AC50']\n",
        "data['Standard Units'].value_counts()"
      ]
    },
    {
      "cell_type": "markdown",
      "id": "84a620fb-c2c7-46ca-b379-d17497287860",
      "metadata": {
        "id": "84a620fb-c2c7-46ca-b379-d17497287860"
      },
      "source": [
        "So, they are all in the same units, which is good. However, some are missing the 'pChEMBL value':"
      ]
    },
    {
      "cell_type": "code",
      "execution_count": null,
      "id": "e29f68f2-1ad1-4952-92ab-41ad9040d101",
      "metadata": {
        "tags": [],
        "id": "e29f68f2-1ad1-4952-92ab-41ad9040d101"
      },
      "outputs": [],
      "source": [
        "data['Standard Value'].isna().any(), data['pChEMBL Value'].isna().any()"
      ]
    },
    {
      "cell_type": "markdown",
      "id": "556ed45e-02bb-47df-85a1-12f3c9e3a97a",
      "metadata": {
        "id": "556ed45e-02bb-47df-85a1-12f3c9e3a97a"
      },
      "source": [
        "There's also a weird variation in values:"
      ]
    },
    {
      "cell_type": "code",
      "execution_count": null,
      "id": "cd6650e0-fc42-4abc-9e1e-057d72ce3cb5",
      "metadata": {
        "tags": [],
        "id": "cd6650e0-fc42-4abc-9e1e-057d72ce3cb5"
      },
      "outputs": [],
      "source": [
        "data['Standard Value'].max(), data['Standard Value'].min()"
      ]
    },
    {
      "cell_type": "code",
      "execution_count": null,
      "id": "0f245bea-826d-44dc-8785-8cf93b6444c0",
      "metadata": {
        "tags": [],
        "id": "0f245bea-826d-44dc-8785-8cf93b6444c0"
      },
      "outputs": [],
      "source": [
        "data['Standard Value'].describe()"
      ]
    },
    {
      "cell_type": "code",
      "execution_count": null,
      "id": "b969c984-a6d7-48ed-8fd7-066ce89cf601",
      "metadata": {
        "tags": [],
        "id": "b969c984-a6d7-48ed-8fd7-066ce89cf601"
      },
      "outputs": [],
      "source": [
        "sns.histplot(data = data, x='Standard Value')"
      ]
    },
    {
      "cell_type": "markdown",
      "id": "33236339-8dae-4ed8-85b5-e382e461b1c1",
      "metadata": {
        "id": "33236339-8dae-4ed8-85b5-e382e461b1c1"
      },
      "source": [
        "Again, Ugh! The very large values are likely \"inactive\" molecules, where the data is reported just as _greater than_ some detection limit $X$"
      ]
    },
    {
      "cell_type": "code",
      "execution_count": null,
      "id": "818814ce-d07c-47b4-bc97-59b30737da9a",
      "metadata": {
        "tags": [],
        "id": "818814ce-d07c-47b4-bc97-59b30737da9a"
      },
      "outputs": [],
      "source": [
        "data[\"Standard Relation\"].value_counts()"
      ]
    },
    {
      "cell_type": "markdown",
      "id": "a8485681-dd58-41cc-a1da-9e503a697dee",
      "metadata": {
        "id": "a8485681-dd58-41cc-a1da-9e503a697dee"
      },
      "source": [
        "So, only about 141 points with real numbers."
      ]
    },
    {
      "cell_type": "markdown",
      "id": "abroad-squad",
      "metadata": {
        "id": "abroad-squad"
      },
      "source": [
        "### $K_i$"
      ]
    },
    {
      "cell_type": "markdown",
      "id": "matched-edmonton",
      "metadata": {
        "id": "matched-edmonton"
      },
      "source": [
        "Next, lets look at $K_i$, with 899 entries."
      ]
    },
    {
      "cell_type": "code",
      "execution_count": null,
      "id": "everyday-balance",
      "metadata": {
        "tags": [],
        "id": "everyday-balance"
      },
      "outputs": [],
      "source": [
        "data = cox2db[ cox2db['Standard Type'] == 'Ki' ]"
      ]
    },
    {
      "cell_type": "markdown",
      "id": "straight-illustration",
      "metadata": {
        "id": "straight-illustration"
      },
      "source": [
        "From those, most have no value reported, because the dose-response curve could not be determined:"
      ]
    },
    {
      "cell_type": "code",
      "execution_count": null,
      "id": "compressed-anniversary",
      "metadata": {
        "tags": [],
        "id": "compressed-anniversary"
      },
      "outputs": [],
      "source": [
        "data['Standard Value'].isna().sum()"
      ]
    },
    {
      "cell_type": "code",
      "execution_count": null,
      "id": "twelve-mission",
      "metadata": {
        "tags": [],
        "id": "twelve-mission"
      },
      "outputs": [],
      "source": [
        "data.head(1)"
      ]
    },
    {
      "cell_type": "code",
      "execution_count": null,
      "id": "sound-combat",
      "metadata": {
        "tags": [],
        "id": "sound-combat"
      },
      "outputs": [],
      "source": [
        "print(data.loc[0]['Comment'])"
      ]
    },
    {
      "cell_type": "markdown",
      "id": "identical-following",
      "metadata": {
        "id": "identical-following"
      },
      "source": [
        "Ant those that have a value reported include a range of different data. Some of the data are only \" > \" a certain threshold, indicating not active."
      ]
    },
    {
      "cell_type": "code",
      "execution_count": null,
      "id": "chief-rwanda",
      "metadata": {
        "tags": [],
        "id": "chief-rwanda"
      },
      "outputs": [],
      "source": [
        "data[data['Standard Value'].notna()]['Standard Relation'].value_counts()"
      ]
    },
    {
      "cell_type": "markdown",
      "id": "electronic-analysis",
      "metadata": {
        "id": "electronic-analysis"
      },
      "source": [
        "Also, some have $K_i = 0$:"
      ]
    },
    {
      "cell_type": "markdown",
      "id": "combined-multiple",
      "metadata": {
        "id": "combined-multiple"
      },
      "source": [
        "### Activity\n",
        "Activity, which is listed for 398 cases:"
      ]
    },
    {
      "cell_type": "code",
      "execution_count": null,
      "id": "african-translator",
      "metadata": {
        "tags": [],
        "id": "african-translator"
      },
      "outputs": [],
      "source": [
        "data = cox2db[ cox2db['Standard Type'] == 'Activity' ]"
      ]
    },
    {
      "cell_type": "code",
      "execution_count": null,
      "id": "spread-variable",
      "metadata": {
        "tags": [],
        "id": "spread-variable"
      },
      "outputs": [],
      "source": [
        "data['Standard Units'].value_counts()"
      ]
    },
    {
      "cell_type": "code",
      "execution_count": null,
      "id": "tribal-particular",
      "metadata": {
        "tags": [],
        "id": "tribal-particular"
      },
      "outputs": [],
      "source": [
        "data[ data['Standard Units'] == 'ng/ml' ].head()"
      ]
    },
    {
      "cell_type": "markdown",
      "id": "prostate-cattle",
      "metadata": {
        "id": "prostate-cattle"
      },
      "source": [
        "This is a relly hard data to analyze. Looking at one document [here](https://pubs.acs.org/doi/10.1021/acs.jmedchem.8b00922), we see that the data listed as \"inhibition\" actually is the . _\"Inhibition of TxB2 during Calcium-Ionophore Stimulation and Inhibition of PGE2 during LPS-Stimulation of Human Whole Blood\"_, at the compound concentration of 1 μM.\n",
        "\n",
        "The only way to use this data is by looking at each article case-by-case! However, the same papers can also have IC50s for the molecules, so we can use that instead."
      ]
    },
    {
      "cell_type": "markdown",
      "id": "sonic-rubber",
      "metadata": {
        "id": "sonic-rubber"
      },
      "source": [
        "# Build Database"
      ]
    },
    {
      "cell_type": "markdown",
      "id": "shared-highland",
      "metadata": {
        "id": "shared-highland"
      },
      "source": [
        "There are a total of 8,545 compounds wth unique SMILES in the database. However, the database actually has:\n",
        "\n",
        "- 7891 entries for $IC_{50}$ (which seems to be the most complete type of data).\n",
        "- 3315 entries with \"Inhibition\" data\n",
        "- 1193 with \"$AC_{50}$s\"\n",
        "- 899 with $K_i$ data, from which only 25 acctually have any data to it.\n",
        "- 398 with \"Activity\" data.\n",
        "\n",
        "Let's create a database with only useful data. It is likely that we can get *some* data on all molecules by using a combination of these."
      ]
    },
    {
      "cell_type": "markdown",
      "id": "53e4261c-3f64-47ef-82db-154d29f795c7",
      "metadata": {
        "id": "53e4261c-3f64-47ef-82db-154d29f795c7"
      },
      "source": [
        "## Columns\n",
        "There's a large number of columns, with all kinds of data in the database:"
      ]
    },
    {
      "cell_type": "code",
      "execution_count": null,
      "id": "fifty-italy",
      "metadata": {
        "tags": [],
        "id": "fifty-italy"
      },
      "outputs": [],
      "source": [
        "cox2db.columns"
      ]
    },
    {
      "cell_type": "markdown",
      "id": "4c78192e-8167-4f29-a226-ee85bce14ec6",
      "metadata": {
        "tags": [],
        "id": "4c78192e-8167-4f29-a226-ee85bce14ec6"
      },
      "source": [
        "That's a lot of columns, and not all are necessary. Let's keep only a selection of these:"
      ]
    },
    {
      "cell_type": "code",
      "execution_count": null,
      "id": "framed-convention",
      "metadata": {
        "tags": [],
        "id": "framed-convention"
      },
      "outputs": [],
      "source": [
        "columns = ['Molecule ChEMBL ID', 'Molecule Name', 'Molecule Max Phase',\n",
        "           'Smiles', 'Standard Type', 'Standard Relation', 'Standard Value','Standard Units']"
      ]
    },
    {
      "cell_type": "markdown",
      "id": "front-mixer",
      "metadata": {
        "id": "front-mixer"
      },
      "source": [
        "## IC50s"
      ]
    },
    {
      "cell_type": "markdown",
      "id": "96e5eadd-1184-4925-ad61-d373fe27947e",
      "metadata": {
        "id": "96e5eadd-1184-4925-ad61-d373fe27947e"
      },
      "source": [
        "Let's do some checking first. We start with the 7,891 entries with IC50 data.\n",
        "\n",
        "**Remember that:**\n",
        "- Some are reported in different units,\n",
        "- some have values or SMILES missing,\n",
        "- Some are only annotated as _\"larger than\"_ or _\"smaller than\"_ some threshold\n",
        "- Some have `Data Validity Comment`s indicating the data may be problematic\n",
        "\n",
        "We will need to remove all those cases.\n",
        "\n",
        "Lets start only with data for which we have:\n",
        "1. Measured IC50 values in units of nM\n",
        "1. There is a Smiles value\n",
        "1. Have no warnings on data value"
      ]
    },
    {
      "cell_type": "code",
      "execution_count": null,
      "id": "fifty-swiss",
      "metadata": {
        "tags": [],
        "id": "fifty-swiss"
      },
      "outputs": [],
      "source": [
        "ic50_data = cox2db[ (cox2db['Standard Type']     == 'IC50')  &\n",
        "                    (cox2db['Standard Relation'] ==  \"'='\")  &\n",
        "                    (cox2db['Standard Units']    ==  'nM' )  &\n",
        "                    (cox2db['Smiles'].notna()             )  &\n",
        "                    (cox2db['Data Validity Comment'].isna()) ][columns]\n",
        "\n",
        "print(\"Total number of entries that match the criteria:\", len(ic50_data))\n",
        "print(\"Number of entries with unique SMILES strings:   \", len(ic50_data['Smiles'].unique()))\n",
        "print(\"Do the number of unique SMILES match the number of unique ChEMBL IDs?\",\n",
        "      len(ic50_data['Smiles'].unique()) == len(ic50_data['Molecule ChEMBL ID'].unique()))"
      ]
    },
    {
      "cell_type": "markdown",
      "id": "greek-violence",
      "metadata": {
        "id": "greek-violence"
      },
      "source": [
        "### Wisdom of the crowd\n",
        "\n",
        "There are a total of 5,571 entries that match the criteria, but only 4,011 unique molecules. That means there a lot of molecules appear more than once (remember Celecoxib?). If the values vary so much, how do we choose the correct one?\n",
        "\n",
        "We *could* just average the values, but that may be skewed by outliers. Here, we will use the *Wisdom of the Crowd* idea: for each molecule, we will choose the **most common** value (`mode`)."
      ]
    },
    {
      "cell_type": "code",
      "execution_count": null,
      "id": "signed-scott",
      "metadata": {
        "tags": [],
        "id": "signed-scott"
      },
      "outputs": [],
      "source": [
        "# This creates a new DataFrame to hold unique entries, and use the `mode` of IC50s for that molecule as the value.\n",
        "cox2_ic50s = pd.DataFrame(columns=columns)\n",
        "for  ic50_data_line in tqdm(ic50_data['Molecule ChEMBL ID'].unique()):\n",
        "    new_row =  ic50_data[ ic50_data['Molecule ChEMBL ID'] ==  ic50_data_line].mode().head(1).copy(deep=True)\n",
        "    cox2_ic50s = pd.concat([cox2_ic50s,new_row])\n",
        "cox2_ic50s.shape"
      ]
    },
    {
      "cell_type": "code",
      "execution_count": null,
      "id": "announced-postcard",
      "metadata": {
        "tags": [],
        "id": "announced-postcard"
      },
      "outputs": [],
      "source": [
        "cox2_ic50s.head()"
      ]
    },
    {
      "cell_type": "code",
      "execution_count": null,
      "id": "95318eaa-c391-4dcb-b686-69214eac12e2",
      "metadata": {
        "tags": [],
        "id": "95318eaa-c391-4dcb-b686-69214eac12e2"
      },
      "outputs": [],
      "source": [
        "print(\"The new database has shape: \", cox2_ic50s.shape)\n",
        "print(\"The new database has length: \", len( cox2_ic50s['Smiles'].unique() ))\n",
        "print(\"Number of unique ChEMBL IDs: \", len( cox2_ic50s['Molecule ChEMBL ID'].unique() ))"
      ]
    },
    {
      "cell_type": "markdown",
      "id": "fea8e376-b8bc-4cec-b4a0-cac441a7c024",
      "metadata": {
        "id": "fea8e376-b8bc-4cec-b4a0-cac441a7c024"
      },
      "source": [
        "Finally, let's remove the temporary dataframes, to save memory:"
      ]
    },
    {
      "cell_type": "code",
      "execution_count": null,
      "id": "technological-infrastructure",
      "metadata": {
        "tags": [],
        "id": "technological-infrastructure"
      },
      "outputs": [],
      "source": [
        "del(ic50_data, ic50_data_line)"
      ]
    },
    {
      "cell_type": "markdown",
      "id": "70287bc6-c56e-488a-9aae-a69df0393223",
      "metadata": {
        "id": "70287bc6-c56e-488a-9aae-a69df0393223"
      },
      "source": [
        "### Activity Bit\n",
        "The numerical data we have so far is good for regression. We can also add a column to represent\n",
        "if the molecule is active or not, useful for classification purposes. Here, let's define a molecule\n",
        "as *acctive* if the $IC_{50}$ is below 100 nM:"
      ]
    },
    {
      "cell_type": "code",
      "execution_count": null,
      "id": "b0dd59d4-7a84-4b5d-b34e-9bffba659ade",
      "metadata": {
        "tags": [],
        "id": "b0dd59d4-7a84-4b5d-b34e-9bffba659ade"
      },
      "outputs": [],
      "source": [
        "cox2_ic50s[\"Active\"] = cox2_ic50s[\"Standard Value\"] < 100"
      ]
    },
    {
      "cell_type": "code",
      "execution_count": null,
      "id": "67daf1fb-8c6b-47c7-8ce4-f5ba6e89f6d6",
      "metadata": {
        "tags": [],
        "id": "67daf1fb-8c6b-47c7-8ce4-f5ba6e89f6d6"
      },
      "outputs": [],
      "source": [
        "cox2_ic50s[\"Active\"].value_counts()"
      ]
    },
    {
      "cell_type": "markdown",
      "id": "19adfad2-20a4-490d-be60-e17323570801",
      "metadata": {
        "id": "19adfad2-20a4-490d-be60-e17323570801"
      },
      "source": [
        "We have about 3 inactives for each active compound."
      ]
    },
    {
      "cell_type": "markdown",
      "id": "6079f22e-c7bc-4ed1-b5d0-74529b6be29f",
      "metadata": {
        "id": "6079f22e-c7bc-4ed1-b5d0-74529b6be29f"
      },
      "source": [
        "### Other Relationships\n",
        "\n",
        "We can now go back to the other relationships, Furst, look at the molecules with a \"larger than\" relationship. Those were so inactive they couldn't even measure the $IC_{50}$s!"
      ]
    },
    {
      "cell_type": "code",
      "execution_count": null,
      "id": "9437c32c-e0f7-4109-a87d-976eeb6ed7c0",
      "metadata": {
        "tags": [],
        "id": "9437c32c-e0f7-4109-a87d-976eeb6ed7c0"
      },
      "outputs": [],
      "source": [
        "ic50_lt_data = cox2db[ (cox2db['Standard Type']     == 'IC50')  &\n",
        "                       (cox2db['Standard Relation'] ==  \"'>'\")  &\n",
        "                       (cox2db['Smiles'].notna()             )  &\n",
        "                       (cox2db['Data Validity Comment'].isna()) ][columns]"
      ]
    },
    {
      "cell_type": "markdown",
      "id": "2037b263-2d70-4d8e-b1cf-599ec793e6bc",
      "metadata": {
        "tags": [],
        "id": "2037b263-2d70-4d8e-b1cf-599ec793e6bc"
      },
      "source": [
        "However, not all are unique, and some were already counted before:"
      ]
    },
    {
      "cell_type": "code",
      "execution_count": null,
      "id": "b5a02d15-9343-4249-8f07-7d29001069a9",
      "metadata": {
        "tags": [],
        "id": "b5a02d15-9343-4249-8f07-7d29001069a9"
      },
      "outputs": [],
      "source": [
        "cox2_ic50s_mols = set(cox2_ic50s['Molecule ChEMBL ID'].unique())\n",
        "\n",
        "lt_mols = set(ic50_lt_data['Molecule ChEMBL ID'].unique())\n",
        "new_mols = lt_mols - cox2_ic50s_mols\n",
        "print(\"Total number of molecules with 'lt' relationship data:\", len(ic50_lt_data))\n",
        "print(\"Number of unique molecules with 'lt' relationship data: \", len(lt_mols) )\n",
        "print(\"Number of those without IC50 data:\", len(new_mols))"
      ]
    },
    {
      "cell_type": "markdown",
      "id": "8fbfb049-f713-44ee-9505-e170d3f2c17c",
      "metadata": {
        "id": "8fbfb049-f713-44ee-9505-e170d3f2c17c"
      },
      "source": [
        "Still, we can sue the data for 811 new molecules. Let's just set them all as inactive, and marge to the previous database."
      ]
    },
    {
      "cell_type": "code",
      "execution_count": null,
      "id": "63cc547d-805d-4f18-ae0a-1e5ae4eab3d7",
      "metadata": {
        "tags": [],
        "id": "63cc547d-805d-4f18-ae0a-1e5ae4eab3d7"
      },
      "outputs": [],
      "source": [
        "ic50_lt_data.drop_duplicates(subset=['Molecule ChEMBL ID'], inplace=True)"
      ]
    },
    {
      "cell_type": "code",
      "execution_count": null,
      "id": "f4b66e79-a9e8-46f2-9e40-b60ca4bc57a3",
      "metadata": {
        "tags": [],
        "id": "f4b66e79-a9e8-46f2-9e40-b60ca4bc57a3"
      },
      "outputs": [],
      "source": [
        "for mol in tqdm(ic50_lt_data['Molecule ChEMBL ID']):\n",
        "    if (mol in cox2_ic50s_mols):\n",
        "        ic50_lt_data.drop( ic50_lt_data.loc[ic50_lt_data['Molecule ChEMBL ID'] == mol].index, inplace=True)"
      ]
    },
    {
      "cell_type": "code",
      "execution_count": null,
      "id": "bb01c2c2-8ba6-4e69-977a-b58781ea01c2",
      "metadata": {
        "tags": [],
        "id": "bb01c2c2-8ba6-4e69-977a-b58781ea01c2"
      },
      "outputs": [],
      "source": [
        "len(ic50_lt_data)"
      ]
    },
    {
      "cell_type": "markdown",
      "id": "b71223bc-6dc6-4044-ba52-5b620ff4cec6",
      "metadata": {
        "id": "b71223bc-6dc6-4044-ba52-5b620ff4cec6"
      },
      "source": [
        "Let's now set the `Active` bit of those to \"False\" (inactive) and merge to the database:"
      ]
    },
    {
      "cell_type": "code",
      "execution_count": null,
      "id": "f13b2b7c-9661-4292-94b7-6dec62726ac6",
      "metadata": {
        "tags": [],
        "id": "f13b2b7c-9661-4292-94b7-6dec62726ac6"
      },
      "outputs": [],
      "source": [
        "ic50_lt_data['Active'] = False\n",
        "cox2_ic50s = pd.concat([cox2_ic50s,ic50_lt_data], ignore_index=True)\n",
        "print(f\"The IC50s database now has {len(cox2_ic50s)} unique molecules.\")"
      ]
    },
    {
      "cell_type": "markdown",
      "id": "professional-dollar",
      "metadata": {
        "id": "professional-dollar"
      },
      "source": [
        "### $IC_{50}$s Summary\n",
        "\n",
        "From an initial total of 13,999 entries, there were only 8,545 unique molecules. From those, only  4,011 were unique molecules with reasonably useful IC50 data."
      ]
    },
    {
      "cell_type": "markdown",
      "id": "e1683b1d-f21a-4207-81ed-119cce19fca2",
      "metadata": {
        "id": "e1683b1d-f21a-4207-81ed-119cce19fca2"
      },
      "source": [
        "### A quick peek at the molecules"
      ]
    },
    {
      "cell_type": "code",
      "execution_count": null,
      "id": "complete-indonesia",
      "metadata": {
        "tags": [],
        "id": "complete-indonesia"
      },
      "outputs": [],
      "source": [
        "# A quick look at the molecules\n",
        "n_to_draw = 8\n",
        "df = cox2_ic50s.sort_values(by=[\"Standard Value\"],ascending=[True]).head(n_to_draw)\n",
        "PandasTools.AddMoleculeColumnToFrame(df, smilesCol='Smiles')\n",
        "mols = df.ROMol.values\n",
        "top_ic50s = df['Molecule ChEMBL ID'].values\n",
        "legends = []\n",
        "for chemblid, ic50, unit in zip(df['Molecule ChEMBL ID'].values, df['Standard Value'].values, df['Standard Units']):\n",
        "    legends.append(f\"{chemblid}\\nIC50={ic50:.3f}{unit}\")\n",
        "Draw.MolsToGridImage(mols, molsPerRow=4,subImgSize=(250,250), legends=legends)"
      ]
    },
    {
      "cell_type": "markdown",
      "id": "fba36cee-d598-4922-862b-b782bf9faa8c",
      "metadata": {
        "id": "fba36cee-d598-4922-862b-b782bf9faa8c"
      },
      "source": [
        "## Other Properties"
      ]
    },
    {
      "cell_type": "markdown",
      "id": "2a35a5ca-bd51-488e-9711-49e0e094aae8",
      "metadata": {
        "id": "2a35a5ca-bd51-488e-9711-49e0e094aae8"
      },
      "source": [
        "There are also some molecules with only other types of activity reported:"
      ]
    },
    {
      "cell_type": "code",
      "execution_count": null,
      "id": "6eed5a0a-22a4-45c2-acac-03c6b28b286b",
      "metadata": {
        "tags": [],
        "id": "6eed5a0a-22a4-45c2-acac-03c6b28b286b"
      },
      "outputs": [],
      "source": [
        "other_properties = ['Inhibition', 'AC50','Ki','Activity']\n",
        "\n",
        "cox2_ic50s_mols = set(cox2_ic50s['Molecule ChEMBL ID'].unique())\n",
        "for prop in other_properties:\n",
        "    prop_data = cox2db[ (cox2db['Standard Type']     == prop)  &\n",
        "                        (cox2db['Standard Relation'] ==  \"'='\")  &\n",
        "                        (cox2db['Smiles'].notna()             )  &\n",
        "                        (cox2db['Data Validity Comment'].isna()) ][columns]\n",
        "    print(f\"Number of entries with data as {prop}: {len(prop_data)}\")\n",
        "    prop_mols = set(prop_data['Molecule ChEMBL ID'].unique())\n",
        "    new_mols = prop_mols - cox2_ic50s_mols\n",
        "    print(\"Number of those without IC50 data:\", len(new_mols))\n",
        "    print(\"-\"*60)"
      ]
    },
    {
      "cell_type": "markdown",
      "id": "633ded0b-7713-4265-9899-8e4b7e765a8d",
      "metadata": {
        "id": "633ded0b-7713-4265-9899-8e4b7e765a8d"
      },
      "source": [
        "It looks like we can recover some more data using those measures."
      ]
    },
    {
      "cell_type": "markdown",
      "id": "95c5f48f-c036-4426-93a4-2cf91b45514b",
      "metadata": {
        "id": "95c5f48f-c036-4426-93a4-2cf91b45514b"
      },
      "source": [
        "<div class=\"alert alert-info\" role=\"alert\">\n",
        "    <b>Exercise:</b> Try to gather more data from those other measures and enrich your database.\n",
        "</div>"
      ]
    },
    {
      "cell_type": "markdown",
      "id": "indonesian-complexity",
      "metadata": {
        "id": "indonesian-complexity"
      },
      "source": [
        "## Pre-process database"
      ]
    },
    {
      "cell_type": "markdown",
      "id": "viral-stanley",
      "metadata": {
        "id": "viral-stanley"
      },
      "source": [
        "Now we need to pre-process the database, to:\n",
        "\n",
        "1. Remove molecules that contain atoms other than ['C','N','O','H','S','P','As','Se','F','Cl','Br','I']\n",
        "1. Standardize (remove salts, etc.)\n",
        "1. Reset the SMILES from the ROMol objects\n",
        "1. Remove duplicates\n",
        "\n",
        "This process involves a number of functions. To make it easier, we collect all those functions\n",
        "in an external file (`utils/preprocess.py`), and just import it here."
      ]
    },
    {
      "cell_type": "markdown",
      "id": "f50412f7-9b82-4892-b2e4-6ed9cd937954",
      "metadata": {
        "id": "f50412f7-9b82-4892-b2e4-6ed9cd937954"
      },
      "source": [
        "<div class=\"alert alert-warning\" role=\"alert\">\n",
        "    <b>Question:</b> Why didn't we do this earlier?\n",
        "</div>"
      ]
    },
    {
      "cell_type": "code",
      "execution_count": null,
      "id": "8f74f49c-8a63-4a48-a2ad-4fd20fe7fa7e",
      "metadata": {
        "tags": [],
        "id": "8f74f49c-8a63-4a48-a2ad-4fd20fe7fa7e"
      },
      "outputs": [],
      "source": [
        "# -- Preprocessing Tools\n",
        "from utils import preprocess"
      ]
    },
    {
      "cell_type": "code",
      "execution_count": null,
      "id": "opened-hybrid",
      "metadata": {
        "tags": [],
        "id": "opened-hybrid"
      },
      "outputs": [],
      "source": [
        "clean_df, dup_df = preprocess.preprocess_db(cox2_ic50s, smiles_col='Smiles')"
      ]
    },
    {
      "cell_type": "markdown",
      "id": "acoustic-cedar",
      "metadata": {
        "id": "acoustic-cedar"
      },
      "source": [
        "So, the there were 52 molecules with atoms other than ['C','N','O','H','S','P','As','Se','F','Cl','Br','I']. Other than that, all was fine."
      ]
    },
    {
      "cell_type": "code",
      "execution_count": null,
      "id": "global-setup",
      "metadata": {
        "tags": [],
        "id": "global-setup"
      },
      "outputs": [],
      "source": [
        "cox2_ic50s.shape, clean_df.shape, dup_df.shape"
      ]
    },
    {
      "cell_type": "code",
      "execution_count": null,
      "id": "alternate-practitioner",
      "metadata": {
        "tags": [],
        "id": "alternate-practitioner"
      },
      "outputs": [],
      "source": [
        "clean_df.columns"
      ]
    },
    {
      "cell_type": "code",
      "execution_count": null,
      "id": "neutral-conducting",
      "metadata": {
        "tags": [],
        "id": "neutral-conducting"
      },
      "outputs": [],
      "source": [
        "# A quick look at the molecules\n",
        "n_to_draw = 8\n",
        "df = clean_df[ clean_df['Molecule ChEMBL ID'].isin(top_ic50s) ]\n",
        "mols = df.ROMol.values\n",
        "legends = []\n",
        "for chemblid, ic50, unit in zip(df['Molecule ChEMBL ID'].values, df['Standard Value'].values, df['Standard Units'].values):\n",
        "    legends.append(f\"{chemblid}\\nIC50={ic50:.3f} {unit}\")\n",
        "Draw.MolsToGridImage(mols, molsPerRow=4,subImgSize=(250,250), legends=legends)"
      ]
    },
    {
      "cell_type": "code",
      "execution_count": null,
      "id": "better-atmosphere",
      "metadata": {
        "tags": [],
        "id": "better-atmosphere"
      },
      "outputs": [],
      "source": [
        "cox2_ic50s = clean_df.copy(deep=True)"
      ]
    },
    {
      "cell_type": "markdown",
      "id": "registered-reserve",
      "metadata": {
        "id": "registered-reserve"
      },
      "source": [
        "We no longer need these other databases, let's remove them."
      ]
    },
    {
      "cell_type": "code",
      "execution_count": null,
      "id": "chemical-reference",
      "metadata": {
        "tags": [],
        "id": "chemical-reference"
      },
      "outputs": [],
      "source": [
        "del(clean_df,dup_df)"
      ]
    },
    {
      "cell_type": "code",
      "execution_count": null,
      "id": "constant-ontario",
      "metadata": {
        "tags": [],
        "id": "constant-ontario"
      },
      "outputs": [],
      "source": [
        "cox2_ic50s.sample(5)"
      ]
    },
    {
      "cell_type": "code",
      "execution_count": null,
      "id": "healthy-marsh",
      "metadata": {
        "tags": [],
        "id": "healthy-marsh"
      },
      "outputs": [],
      "source": [
        "len(cox2_ic50s)"
      ]
    },
    {
      "cell_type": "code",
      "execution_count": null,
      "id": "a697ccb7-973c-41ad-ae19-56ebeed2b911",
      "metadata": {
        "tags": [],
        "id": "a697ccb7-973c-41ad-ae19-56ebeed2b911"
      },
      "outputs": [],
      "source": [
        "len(cox2_ic50s['Molecule ChEMBL ID'].unique())"
      ]
    },
    {
      "cell_type": "markdown",
      "id": "89d9d858-d6be-4545-87de-5d01b5e5bd8b",
      "metadata": {
        "id": "89d9d858-d6be-4545-87de-5d01b5e5bd8b"
      },
      "source": [
        "## Save database"
      ]
    },
    {
      "cell_type": "raw",
      "id": "e16d5439-8974-492b-80c1-94fdeb747b93",
      "metadata": {
        "id": "e16d5439-8974-492b-80c1-94fdeb747b93"
      },
      "source": [
        "cox2_ic50s.to_pickle(\"cox2_ic50s.pkl\")"
      ]
    },
    {
      "cell_type": "markdown",
      "id": "227c7c71-88b4-4c1b-85bd-6122531a9150",
      "metadata": {
        "id": "227c7c71-88b4-4c1b-85bd-6122531a9150"
      },
      "source": [
        "# Example: A Random Forest Classifier"
      ]
    },
    {
      "cell_type": "markdown",
      "id": "f292ac1d-d182-45ec-8a7e-3d516927b2c6",
      "metadata": {
        "id": "f292ac1d-d182-45ec-8a7e-3d516927b2c6"
      },
      "source": [
        "As a usage example, let's build a simple Random Forest Classifier to determine if a molecule is active against COX-2 or not."
      ]
    },
    {
      "cell_type": "markdown",
      "id": "b7440cc4-e552-4dec-a735-711235703c3c",
      "metadata": {
        "id": "b7440cc4-e552-4dec-a735-711235703c3c"
      },
      "source": [
        "## Featurize the Molecules\n",
        "To create a model, we will need to add features to the molecules. Here, let's use the molecular fingerprint as features."
      ]
    },
    {
      "cell_type": "code",
      "execution_count": null,
      "id": "c9a0cf24-13c8-4dce-947f-c82c7c8d0792",
      "metadata": {
        "tags": [],
        "id": "c9a0cf24-13c8-4dce-947f-c82c7c8d0792"
      },
      "outputs": [],
      "source": [
        "fpgen = AllChem.GetMorganGenerator(radius=3,fpSize=2048)"
      ]
    },
    {
      "cell_type": "code",
      "execution_count": null,
      "id": "064c1b90-cfb8-46e7-8ef5-4d798a3b023a",
      "metadata": {
        "tags": [],
        "id": "064c1b90-cfb8-46e7-8ef5-4d798a3b023a"
      },
      "outputs": [],
      "source": [
        "cox2_ic50s['MorganFP'] = [fpgen.GetFingerprintAsNumPy(x) for x in cox2_ic50s.ROMol]"
      ]
    },
    {
      "cell_type": "code",
      "execution_count": null,
      "id": "c251bfab-eac5-400b-a12f-9d550d636505",
      "metadata": {
        "tags": [],
        "id": "c251bfab-eac5-400b-a12f-9d550d636505"
      },
      "outputs": [],
      "source": [
        "cox2_ic50s.head()"
      ]
    },
    {
      "cell_type": "markdown",
      "id": "a507ade2-e3f6-4331-86c3-f2239a117011",
      "metadata": {
        "id": "a507ade2-e3f6-4331-86c3-f2239a117011"
      },
      "source": [
        "## Split the dataset"
      ]
    },
    {
      "cell_type": "code",
      "execution_count": null,
      "id": "26e6997a-73e2-445b-b354-4f4d5e467061",
      "metadata": {
        "tags": [],
        "id": "26e6997a-73e2-445b-b354-4f4d5e467061"
      },
      "outputs": [],
      "source": [
        "from sklearn.model_selection import train_test_split"
      ]
    },
    {
      "cell_type": "code",
      "execution_count": null,
      "id": "e86430d9-f80c-4501-9ba0-846e6a1cd323",
      "metadata": {
        "tags": [],
        "id": "e86430d9-f80c-4501-9ba0-846e6a1cd323"
      },
      "outputs": [],
      "source": [
        "X, y = cox2_ic50s.MorganFP.values.tolist(), cox2_ic50s.Active.values.tolist()"
      ]
    },
    {
      "cell_type": "code",
      "execution_count": null,
      "id": "2610a8b2-a316-404d-a083-d9d55013f354",
      "metadata": {
        "tags": [],
        "id": "2610a8b2-a316-404d-a083-d9d55013f354"
      },
      "outputs": [],
      "source": [
        "len(X), len(y)"
      ]
    },
    {
      "cell_type": "markdown",
      "id": "c5f57019-5133-4fa9-85e9-df5287285f2c",
      "metadata": {
        "id": "c5f57019-5133-4fa9-85e9-df5287285f2c"
      },
      "source": [
        "Let's use 80% of the molecules for training, and test the model with the remaining 20%:"
      ]
    },
    {
      "cell_type": "code",
      "execution_count": null,
      "id": "53df0d32-50de-432d-954f-2a303979bb3f",
      "metadata": {
        "tags": [],
        "id": "53df0d32-50de-432d-954f-2a303979bb3f"
      },
      "outputs": [],
      "source": [
        "X_train, X_test, y_train, y_test = train_test_split(X, y,\n",
        "                                                    test_size = 0.30,\n",
        "                                                    random_state=42,\n",
        "                                                    shuffle=True,\n",
        "                                                    stratify=y)"
      ]
    },
    {
      "cell_type": "code",
      "execution_count": null,
      "id": "6d341766-94ba-4246-8394-25f543f7e63a",
      "metadata": {
        "tags": [],
        "id": "6d341766-94ba-4246-8394-25f543f7e63a"
      },
      "outputs": [],
      "source": [
        "print('Training set: ', len(X_train))\n",
        "print('Testing set:  ', len(X_test))"
      ]
    },
    {
      "cell_type": "code",
      "execution_count": null,
      "id": "e6d759fd-7c83-48a3-8de1-7541da1312c7",
      "metadata": {
        "tags": [],
        "id": "e6d759fd-7c83-48a3-8de1-7541da1312c7"
      },
      "outputs": [],
      "source": [
        "values,counts = np.unique(y_train, return_counts=True)\n",
        "for value, count in zip(values, counts):\n",
        "    print(f\"Active? {value!s:5}: {count: 6d}\")\n",
        "print(f\"Proportion of inactive molecules in the training set: {counts[0]/(counts[0] + counts[1]):0.2f}\")"
      ]
    },
    {
      "cell_type": "code",
      "execution_count": null,
      "id": "53f81ecc-7764-4871-828d-efe35ee8428e",
      "metadata": {
        "tags": [],
        "id": "53f81ecc-7764-4871-828d-efe35ee8428e"
      },
      "outputs": [],
      "source": [
        "values,counts = np.unique(y_test, return_counts=True)\n",
        "for value, count in zip(values, counts):\n",
        "    print(f\"Active? {value!s:5}: {count: 6d}\")\n",
        "print(f\"Proportion of inactive molecules in the testing set: {counts[0]/(counts[0] + counts[1]):0.2%}\")"
      ]
    },
    {
      "cell_type": "markdown",
      "id": "b0186f58-1379-4a59-99e6-f3bc9a44eab8",
      "metadata": {
        "id": "b0186f58-1379-4a59-99e6-f3bc9a44eab8"
      },
      "source": [
        "## Train the model"
      ]
    },
    {
      "cell_type": "markdown",
      "id": "514cbe64-18de-4207-8790-a13369b7e45f",
      "metadata": {
        "id": "514cbe64-18de-4207-8790-a13369b7e45f"
      },
      "source": [
        "For this example, we will use a simple Random Forest. This is always a good baseline: Any model you create should be at least as good as a Random Forest."
      ]
    },
    {
      "cell_type": "code",
      "execution_count": null,
      "id": "78990b4f-4639-4b06-a90e-6a2d58c6c0c7",
      "metadata": {
        "tags": [],
        "id": "78990b4f-4639-4b06-a90e-6a2d58c6c0c7"
      },
      "outputs": [],
      "source": [
        "from sklearn.ensemble import RandomForestClassifier"
      ]
    },
    {
      "cell_type": "code",
      "execution_count": null,
      "id": "20ef955f-08b8-45f2-9d86-41081f8d4e59",
      "metadata": {
        "id": "20ef955f-08b8-45f2-9d86-41081f8d4e59"
      },
      "outputs": [],
      "source": [
        "clf = RandomForestClassifier(random_state=42)"
      ]
    },
    {
      "cell_type": "code",
      "execution_count": null,
      "id": "c2e2fe3f-b6ac-44f1-948e-c2256bf75462",
      "metadata": {
        "tags": [],
        "id": "c2e2fe3f-b6ac-44f1-948e-c2256bf75462"
      },
      "outputs": [],
      "source": [
        "clf.fit(X_train,y_train)"
      ]
    },
    {
      "cell_type": "code",
      "execution_count": null,
      "id": "269be5d0-1eb0-4954-85af-19c0aa022bfb",
      "metadata": {
        "tags": [],
        "id": "269be5d0-1eb0-4954-85af-19c0aa022bfb"
      },
      "outputs": [],
      "source": [
        "y_pred = clf.predict(X_test)"
      ]
    },
    {
      "cell_type": "markdown",
      "id": "2c80baab-e1cc-4070-ad1a-02989c0aa035",
      "metadata": {
        "tags": [],
        "id": "2c80baab-e1cc-4070-ad1a-02989c0aa035"
      },
      "source": [
        "## Test the Model"
      ]
    },
    {
      "cell_type": "code",
      "execution_count": null,
      "id": "46450a10-7a39-4d7c-b5f4-0e309e8fa0ee",
      "metadata": {
        "tags": [],
        "id": "46450a10-7a39-4d7c-b5f4-0e309e8fa0ee"
      },
      "outputs": [],
      "source": [
        "from sklearn import metrics"
      ]
    },
    {
      "cell_type": "code",
      "execution_count": null,
      "id": "bbd21e24-b07a-461a-8707-fafd0704de7b",
      "metadata": {
        "tags": [],
        "id": "bbd21e24-b07a-461a-8707-fafd0704de7b"
      },
      "outputs": [],
      "source": [
        "print(f\"Accuracy:  {metrics.accuracy_score(y_test, y_pred):.2f}\")\n",
        "print(f\"F1-Score:  {metrics.f1_score(y_test, y_pred):.2f}\")\n",
        "print(f\"Precision: {metrics.precision_score(y_test, y_pred):.2f}\")\n",
        "print(f\"Recall:    {metrics.recall_score(y_test, y_pred):.2f}\" )\n",
        "print(f\"ROC_AUC:   {metrics.roc_auc_score(y_test, y_pred):.2f}\" )"
      ]
    },
    {
      "cell_type": "markdown",
      "id": "63dab594-d408-4c12-ba93-fef7d5d23a92",
      "metadata": {
        "tags": [],
        "id": "63dab594-d408-4c12-ba93-fef7d5d23a92"
      },
      "source": [
        "Not a bad model, huh? Especially considering there we did not optimize any hyperparamters!"
      ]
    },
    {
      "cell_type": "markdown",
      "id": "39dd0863-6449-40ef-8a9b-47d81035c751",
      "metadata": {
        "tags": [],
        "id": "39dd0863-6449-40ef-8a9b-47d81035c751"
      },
      "source": [
        "<div class=\"alert alert-success\" role=\"alert\">\n",
        "    <b>That's it for today</b> </br>\n",
        "    As an exercise, see if you can get a better model by adding more data from the other measures or adjusting hyperparameters!\n",
        "</div>"
      ]
    },
    {
      "cell_type": "code",
      "execution_count": null,
      "id": "290e9a89-1da5-4177-98d6-ce3976504bb2",
      "metadata": {
        "id": "290e9a89-1da5-4177-98d6-ce3976504bb2"
      },
      "outputs": [],
      "source": []
    }
  ],
  "metadata": {
    "kernelspec": {
      "display_name": "test_class_env",
      "language": "python",
      "name": "test_class_env"
    },
    "language_info": {
      "codemirror_mode": {
        "name": "ipython",
        "version": 3
      },
      "file_extension": ".py",
      "mimetype": "text/x-python",
      "name": "python",
      "nbconvert_exporter": "python",
      "pygments_lexer": "ipython3",
      "version": "3.12.5"
    },
    "toc": {
      "base_numbering": 1,
      "nav_menu": {},
      "number_sections": true,
      "sideBar": true,
      "skip_h1_title": false,
      "title_cell": "Table of Contents",
      "title_sidebar": "Contents",
      "toc_cell": false,
      "toc_position": {
        "height": "calc(100% - 180px)",
        "left": "10px",
        "top": "150px",
        "width": "287px"
      },
      "toc_section_display": true,
      "toc_window_display": true
    },
    "varInspector": {
      "cols": {
        "lenName": 16,
        "lenType": 16,
        "lenVar": 40
      },
      "kernels_config": {
        "python": {
          "delete_cmd_postfix": "",
          "delete_cmd_prefix": "del ",
          "library": "var_list.py",
          "varRefreshCmd": "print(var_dic_list())"
        },
        "r": {
          "delete_cmd_postfix": ") ",
          "delete_cmd_prefix": "rm(",
          "library": "var_list.r",
          "varRefreshCmd": "cat(var_dic_list()) "
        }
      },
      "types_to_exclude": [
        "module",
        "function",
        "builtin_function_or_method",
        "instance",
        "_Feature"
      ],
      "window_display": false
    },
    "colab": {
      "provenance": [],
      "include_colab_link": true
    }
  },
  "nbformat": 4,
  "nbformat_minor": 5
}